{
 "cells": [
  {
   "cell_type": "markdown",
   "metadata": {},
   "source": [
    "Thanks to Taichi Graphics\n",
    "\n",
    "Tutorial: https://github.com/chunleili/tiPBD"
   ]
  },
  {
   "cell_type": "markdown",
   "metadata": {},
   "source": [
    "##### (X)PBD ((Extendend) Position based dynamics)\n",
    "- initialize all vertices $v_i$\n",
    "- while true\n",
    "    - $v_i=v_i+\\Delta t (f_i/m_i)$\n",
    "    - apply damping\n",
    "    - $p_i=x_i+v_i\\Delta t$\n",
    "    - $p_i\\ = p_i+\\Delta p = p_i-\\frac{s_{ij}}{m_i}\\nabla_{p_i}C_j(p_1,\\ldots,p_i,\\ldots)$\n",
    "    - $v_i = (p_i-x_i)/\\Delta t$ (this is why it's position based)\n",
    "    - $x_i = p_i$\n",
    "\n",
    "\n",
    "$s_{ij} = \\frac{C_j}{\\sum_k \\frac{1}{m_k}|\\nabla_{p_k} C_j|^2+\\alpha}$, $\\alpha=\\frac{c}{(\\Delta t^2)}$, $c$ is compliance.\n",
    "If $c=0$, XPBD becomes PBD\n",
    "\n",
    "Like Newton's law on position, unphysical but stable\n",
    "\n",
    "useful for games or movies"
   ]
  },
  {
   "attachments": {
    "image.png": {
     "image/png": "[encoded data removed]"
    }
   },
   "cell_type": "markdown",
   "metadata": {},
   "source": [
    "Constraints\n",
    "\n",
    "- spring\n",
    "    - $C(p_1,p_2)=|p_1-p_2|-d$\n",
    "    - $\\nabla_{p_1}C=\\frac{p_1-p_2}{|p_1-p_2|}$\n",
    "    - $\\nabla_{p_2}C=-\\frac{p_1-p_2}{|p_1-p_2|}$\n",
    "- tetrahedral\n",
    "    - ![image.png](attachment:image.png)\n",
    "    - $C=6(V-V_0)$\n",
    "    - $V = |\\frac{1}{6}[(x_1-x_0)\\times(x_2-x_0)]\\cdot(x_3-x_0)$\n",
    "    - Gradient of a vertex is a normal away from opposite plane\n",
    "    - $\\nabla_{x_0}C=(x_3-x_1)\\times(x_2-x_1)$\n",
    "    - $\\nabla_{x_1}C=(x_2-x_0)\\times(x_3-x_0)$\n",
    "    - $\\nabla_{x_2}C=(x_3-x_0)\\times(x_1-x_0)$\n",
    "    - $\\nabla_{x_3}C=(x_1-x_0)\\times(x_2-x_0)$"
   ]
  },
  {
   "cell_type": "markdown",
   "metadata": {},
   "source": [
    "##### Controls\n",
    "\n",
    "<kbd>k</kbd>  add upward impulse\n",
    "\n",
    "<kbd>l</kbd>  drag bunny towards origin\n",
    "\n",
    "<kbd>Esc</kbd>  exit program"
   ]
  },
  {
   "cell_type": "code",
   "execution_count": 1,
   "metadata": {},
   "outputs": [
    {
     "name": "stdout",
     "output_type": "stream",
     "text": [
      "[Taichi] version 1.7.3, llvm 15.0.1, commit 5ec301be, win, python 3.9.21\n",
      "[Taichi] Starting on arch=x64\n"
     ]
    }
   ],
   "source": [
    "import taichi as ti\n",
    "import taichi.math as tm\n",
    "from tiReadMesh import *"
   ]
  },
  {
   "cell_type": "code",
   "execution_count": 2,
   "metadata": {},
   "outputs": [],
   "source": [
    "numSubsteps = 10\n",
    "dt = 1.0 / 60.0 / numSubsteps\n",
    "edgeCompliance = 100.0\n",
    "volumeCompliance = 0.0\n",
    "\n",
    "lastPos = ti.Vector.field(3, float, numParticles)\n",
    "vel = ti.Vector.field(3, float, numParticles)\n",
    "\n",
    "surf_show = ti.field(int, numSurfs * 3)\n",
    "surf_show.from_numpy(surf_np.flatten())"
   ]
  },
  {
   "cell_type": "code",
   "execution_count": 3,
   "metadata": {},
   "outputs": [],
   "source": [
    "floor_height = 0\n",
    "coef_restitution = 0.4\n",
    "\n",
    "@ti.kernel\n",
    "def preSolve(floor_height : float, random_force_index : int, random_force : float, central_force : bool):\n",
    "    g = tm.vec3(0,-1,0)\n",
    "    for i in range(numParticles):\n",
    "        lastPos[i] = pos[i]\n",
    "        vel[i] += g * dt\n",
    "        if i == random_force_index:\n",
    "            if central_force:\n",
    "                vel[i] += (tm.vec3(0,0,0) - pos[i])*random_force*invMass[i] * dt\n",
    "            else:\n",
    "                vel[i] += -g*random_force*invMass[i] * dt\n",
    "        pos[i] += vel[i] * dt\n",
    "        if pos[i].y < floor_height:\n",
    "            # no slip condition\n",
    "            pos[i] = lastPos[i]\n",
    "            pos[i].y *= -coef_restitution"
   ]
  },
  {
   "cell_type": "code",
   "execution_count": 4,
   "metadata": {},
   "outputs": [],
   "source": [
    "@ti.kernel\n",
    "def solveEdge():\n",
    "    alpha = edgeCompliance/dt/dt\n",
    "    grads = tm.vec3(0,0,0)\n",
    "    for i in range(numEdges):\n",
    "        i0 = edge[i][0]\n",
    "        i1 = edge[i][1]\n",
    "\n",
    "        grads = pos[i0] - pos[i1]\n",
    "        Len = grads.norm()\n",
    "        grads /= Len\n",
    "        C = Len - restLen[i]\n",
    "        s = -C / (invMass[i0]+invMass[i1] + alpha) # |grad C|^2=1\n",
    "        \n",
    "        pos[i0] += grads*s*invMass[i0]\n",
    "        pos[i1] += -grads*s*invMass[i1]\n",
    "\n",
    "@ti.kernel\n",
    "def solveVolume():\n",
    "    alpha = volumeCompliance /dt/ dt\n",
    "    grads = [tm.vec3(0,0,0), tm.vec3(0,0,0), tm.vec3(0,0,0), tm.vec3(0,0,0)]\n",
    "\n",
    "    for i in range(numTets):\n",
    "        id = tm.ivec4(-1,-1,-1,-1) # pythonic declare\n",
    "        for j in ti.static(range(4)):\n",
    "            id[j] = tet[i][j]\n",
    "        grads[0] = (pos[id[3]] - pos[id[1]]).cross(pos[id[2]] - pos[id[1]])\n",
    "        grads[1] = (pos[id[2]] - pos[id[0]]).cross(pos[id[3]] - pos[id[0]])\n",
    "        grads[2] = (pos[id[3]] - pos[id[0]]).cross(pos[id[1]] - pos[id[0]])\n",
    "        grads[3] = (pos[id[1]] - pos[id[0]]).cross(pos[id[2]] - pos[id[0]])\n",
    "        w = 0.0\n",
    "        for j in ti.static(range(4)):\n",
    "            w += invMass[id[j]] * (grads[j].norm())**2\n",
    "        vol = tetVolume(i)\n",
    "        C = (vol-restVol[i]) * 6.0\n",
    "        s = -C/(w+alpha)\n",
    "\n",
    "        for j in ti.static(range(4)):\n",
    "            pos[tet[i][j]] += grads[j]*s*invMass[id[j]]\n",
    "\n",
    "def solve():\n",
    "    solveEdge()\n",
    "    solveVolume()"
   ]
  },
  {
   "cell_type": "code",
   "execution_count": 5,
   "metadata": {},
   "outputs": [],
   "source": [
    "@ti.kernel\n",
    "def postSolve():\n",
    "    for i in pos:\n",
    "        vel[i] = (pos[i]-lastPos[i]) / dt\n",
    "\n",
    "def substep(random_force_index, random_force, bCentralForce):\n",
    "    preSolve(floor_height, random_force_index, random_force, bCentralForce)\n",
    "    solve()\n",
    "    postSolve()"
   ]
  },
  {
   "cell_type": "code",
   "execution_count": 6,
   "metadata": {},
   "outputs": [],
   "source": [
    "@ti.kernel\n",
    "def init_pos():\n",
    "    for i in range(numParticles):\n",
    "        pos[i] += tm.vec3(0.5,1,0)\n",
    "\n",
    "init_pos()"
   ]
  },
  {
   "cell_type": "code",
   "execution_count": 7,
   "metadata": {},
   "outputs": [
    {
     "name": "stderr",
     "output_type": "stream",
     "text": [
      "c:\\Users\\Sol\\.conda\\envs\\taichi\\lib\\site-packages\\taichi\\ui\\scene.py:443: DeprecationWarning: Instantiating ti.ui.Scene directly is deprecated, use the get_scene() function from a taichi.ui.Window object instead.\n",
      "  warnings.warn(\n"
     ]
    },
    {
     "name": "stdout",
     "output_type": "stream",
     "text": [
      "window\n"
     ]
    }
   ],
   "source": [
    "window = ti.ui.Window(\"pbd\", (1024,1024), vsync=True)\n",
    "gui = window.get_gui()\n",
    "canvas = window.get_canvas()\n",
    "scene = ti.ui.Scene()\n",
    "camera = ti.ui.make_camera()\n",
    "\n",
    "#initial camera position\n",
    "camera.position(4.0, 3.0, 4.0)\n",
    "camera.lookat(0.5, 2, 0.5)\n",
    "camera.fov(55)\n",
    "\n",
    "frame = 0\n",
    "PI_3 = tm.pi/3\n",
    "TAU_3 = tm.pi*2/3\n",
    "floor_mesh = ti.Vector.field(3,float,4)\n",
    "floor_size = 1\n",
    "floor_mesh[0][0] = -floor_size\n",
    "floor_mesh[0][2] = -floor_size\n",
    "floor_mesh[1][0] = -floor_size\n",
    "floor_mesh[1][2] = floor_size\n",
    "floor_mesh[2][0] = floor_size\n",
    "floor_mesh[2][2] = floor_size\n",
    "floor_mesh[3][0] = floor_size\n",
    "floor_mesh[3][2] = -floor_size\n",
    "floor_surf = ti.field(int,6)\n",
    "floor_surf.from_numpy(np.array([0,1,2,2,3,0]))\n",
    "\n",
    "from random import randint\n",
    "\n",
    "force_vert_index = -1\n",
    "force = 0.0\n",
    "bCentralForce = False\n",
    "\n",
    "save_image = False\n",
    "\n",
    "text_top_left = ''\n",
    "text_num_frames = 20\n",
    "text_num_frames_left = 0\n",
    "gui.sub_window(\"asdf\", x=100, y=10, width=40, height=30)\n",
    "\n",
    "while window.running:\n",
    "    frame += 1\n",
    "    #do the simulation in each step\n",
    "    for _ in range(numSubsteps):\n",
    "        substep(force_vert_index, force, bCentralForce)\n",
    "\n",
    "    force_vert_index = -1\n",
    "    if text_num_frames_left > 0:\n",
    "        text_num_frames_left-=1\n",
    "    else:\n",
    "        text_top_left = ''\n",
    "    for e in window.get_events(ti.ui.PRESS):\n",
    "        if e.key == 'k':\n",
    "            force_vert_index = randint(0,numParticles-1)\n",
    "            force = 0.01\n",
    "            bCentralForce = False\n",
    "            text_top_left = 'k - move up'\n",
    "            text_num_frames_left = text_num_frames\n",
    "        elif e.key == 'l':\n",
    "            force_vert_index = randint(0,numParticles-1)\n",
    "            force = 0.01\n",
    "            bCentralForce = True\n",
    "            text_top_left = 'l - move to origin'\n",
    "            text_num_frames_left = text_num_frames\n",
    "        elif e.key == 's':\n",
    "            save_image = not save_image\n",
    "        elif e.key == ti.ui.ESCAPE:\n",
    "            print('window')\n",
    "            window.running = False\n",
    "\n",
    "    gui.text(text_top_left, color=(1,1,1))\n",
    "\n",
    "    #set the camera, you can move around by pressing 'wasdeq'\n",
    "    camera.track_user_inputs(window, movement_speed=0.03, hold_key=ti.ui.RMB)\n",
    "    scene.set_camera(camera)\n",
    "\n",
    "    #set the light\n",
    "    scene.point_light(pos=(0, 1, 2), color=(1, 1, 1))\n",
    "    scene.point_light(pos=(0.5, 1.5, 0.5), color=(0.5, 0.5, 0.5))\n",
    "    scene.ambient_light((0.5, 0.5, 0.5))\n",
    "\n",
    "    #draw\n",
    "    # scene.particles(pos, radius=0.02, color=(0, 1, 1))\n",
    "    a = frame/60\n",
    "    scene.mesh(pos, indices=surf_show, color=(.5+.5*tm.sin(a),.5+.5*tm.sin(a+PI_3),.5+.5*tm.sin(a+TAU_3)))\n",
    "    for i in ti.static(range(4)):\n",
    "        floor_mesh[i][1] = floor_height\n",
    "    scene.mesh(floor_mesh,indices=floor_surf,color=(0.5,0.5,0.5))\n",
    "\n",
    "    #show the frame\n",
    "    canvas.scene(scene)\n",
    "    # floor_height = 0.1*tm.sin(frame/300)  # the bunny will explode\n",
    "\n",
    "    if save_image:\n",
    "        window.save_image(f'./PBD_frames/frame{frame}.png')\n",
    "    window.show()"
   ]
  }
 ],
 "metadata": {
  "kernelspec": {
   "display_name": "taichi",
   "language": "python",
   "name": "python3"
  },
  "language_info": {
   "codemirror_mode": {
    "name": "ipython",
    "version": 3
   },
   "file_extension": ".py",
   "mimetype": "text/x-python",
   "name": "python",
   "nbconvert_exporter": "python",
   "pygments_lexer": "ipython3",
   "version": "3.9.21"
  }
 },
 "nbformat": 4,
 "nbformat_minor": 2
}

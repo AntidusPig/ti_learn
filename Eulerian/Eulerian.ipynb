{
 "cells": [
  {
   "cell_type": "markdown",
   "metadata": {},
   "source": [
    "store velocity and pressure at the center of the grid\n",
    "\n",
    "$$\n",
    "\\rho\\frac{D u}{D t}=\\rho g-\\nabla p+\\eta\\nabla^2 u\n",
    "$$\n",
    "\n",
    "solved by iteratively applying\n",
    "\n",
    "- $\\frac{D u}{Dt} = 0$ (advection)\n",
    "- $\\frac{\\Delta u}{\\Delta t} = g$ (gravity)\n",
    "- $\\frac{\\Delta u}{\\Delta t} = -\\frac{1}{\\rho}\\nabla p$ and $\\nabla\\cdot u=0$\n",
    "- $\\frac{\\Delta u}{\\Delta t} = \\frac{\\eta}{\\rho}\\nabla^2 u$"
   ]
  },
  {
   "cell_type": "markdown",
   "metadata": {},
   "source": [
    "Define $\\rho,h=1$ ($h$ is grid size)"
   ]
  },
  {
   "cell_type": "markdown",
   "metadata": {},
   "source": [
    "#### 1st equation:\n",
    "\n",
    "Imagine the grid as a particle and move it backwards by $u\\Delta t$, and sample the average using bilinear interpolation (ala semi-Lagrangian)\n",
    "\n",
    "#### 2nd equation:\n",
    "$\\Delta u = g\\Delta t$"
   ]
  },
  {
   "cell_type": "markdown",
   "metadata": {},
   "source": [
    "##### 3rd equation:\n",
    "\n",
    "$$\n",
    "\\Delta u^{(t+1)}-u^{(t)} = -\\frac{\\Delta t}{\\rho}\\nabla p\\\\\n",
    "\\nabla\\cdot u^{(t+1)} = 0 = \\nabla u^{(t)} - \\frac{\\Delta t}{\\rho}\\nabla^2 p\\\\\n",
    "\\frac{\\rho}{\\Delta t}\\nabla\\cdot u^{(t)} = \\nabla^2 p = \\frac{1}{h^2}(-4p_{i,j}+p_{i+1,j}+p_{i-1,j}+p_{i,j+1}+p_{i,j-1})\\\\\n",
    "p_{i,j}^{(t+1)} = (p_{i+1,j}^{(t)}+p_{i-1,j}^{(t)}+p_{i,j+1}^{(t)}+p_{i,j-1}^{(t)}-\\frac{h^2\\rho}{\\Delta t}\\nabla\\cdot u^{(t)})/4\\\\\n",
    "$$\n",
    "\n",
    "Then\n",
    "$u^{(t+1)} = u^{(t)} -\\frac{\\Delta t}{\\rho}\\nabla p$\n",
    "\n",
    "$(\\nabla p)_x = \\frac{p_{i+1,j}-p_{i-1,j}}{2}$"
   ]
  },
  {
   "cell_type": "markdown",
   "metadata": {},
   "source": [
    "#### 4th equation\n",
    "\n",
    "$\\displaystyle \\Delta u = \\frac{\\eta\\Delta t}{\\rho}\\nabla^2 u$\n",
    "\n",
    "$\\displaystyle(\\nabla^2 u)_x = \\frac{\\partial^2 u_x}{\\partial x^2}+\\frac{\\partial^2 u_x}{\\partial y^2} = \\frac{u_{x,i-1,j}+u_{x,i+1,j}+u_{x,i,j+1}+u_{x,i,j-1}-4u_{x,i,j}}{h^2}$"
   ]
  }
 ],
 "metadata": {
  "kernelspec": {
   "display_name": "taichi",
   "language": "python",
   "name": "python3"
  },
  "language_info": {
   "codemirror_mode": {
    "name": "ipython",
    "version": 3
   },
   "file_extension": ".py",
   "mimetype": "text/x-python",
   "name": "python",
   "nbconvert_exporter": "python",
   "pygments_lexer": "ipython3",
   "version": "3.9.21"
  }
 },
 "nbformat": 4,
 "nbformat_minor": 2
}
